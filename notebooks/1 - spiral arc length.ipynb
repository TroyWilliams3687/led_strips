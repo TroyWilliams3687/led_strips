{
 "cells": [
  {
   "cell_type": "markdown",
   "id": "93545121",
   "metadata": {},
   "source": [
    "# Conical Spirals - Arc Length\n",
    "\n",
    "In the previous notebook,<a href=\"./0 - conical spirals.ipynb\">`0 - conical spirals.ipynb`</a>, we developed the model to trace the Archimedean spiral around the cone. In this notebook, we explore the derivation of the equations to calculate the arc length of the spiral (Archimedean spiral). In practical terms, if we use LED strips to create a sprial around the cone, we can determine the required LED strip length to get the job done."
   ]
  },
  {
   "cell_type": "markdown",
   "id": "017c8e06",
   "metadata": {},
   "source": [
    "# Notebook Preamble"
   ]
  },
  {
   "cell_type": "code",
   "execution_count": 1,
   "id": "a5499093",
   "metadata": {},
   "outputs": [
    {
     "data": {
      "application/javascript": [
       "//Disable autoscroll in the output cells - needs to be in a separate cell with nothing else\n",
       "IPython.OutputArea.prototype._should_scroll = function(lines) {\n",
       "    return false;\n",
       "}\n"
      ],
      "text/plain": [
       "<IPython.core.display.Javascript object>"
      ]
     },
     "metadata": {},
     "output_type": "display_data"
    }
   ],
   "source": [
    "%%javascript\n",
    "//Disable autoscroll in the output cells - needs to be in a separate cell with nothing else\n",
    "IPython.OutputArea.prototype._should_scroll = function(lines) {\n",
    "    return false;\n",
    "}"
   ]
  },
  {
   "cell_type": "code",
   "execution_count": 2,
   "id": "6d7d4c6e",
   "metadata": {},
   "outputs": [],
   "source": [
    "# decide whether charts will be displayed interactively or in a format that exports to pdf\n",
    "\n",
    "# Interactive -----------------\n",
    "# For interactive notebook uncomment:\n",
    "%matplotlib notebook\n",
    "\n",
    "# PDF -----------------\n",
    "# For pdf plotting uncomment:\n",
    "# %matplotlib inline\n",
    "# import warnings\n",
    "# warnings.filterwarnings('ignore')\n",
    "\n",
    "%config InlineBackend.figure_formats = ['png', 'pdf'] #['svg']\n",
    "\n",
    "#------------\n",
    "# Setup matplotlib\n",
    "import matplotlib.pyplot as plt \n",
    "from mpl_toolkits.mplot3d import Axes3D # handle 3D plots\n",
    "import matplotlib as mpl\n",
    "\n",
    "mpl.rc('font',family='monospace') # all font on the plot will be monospace"
   ]
  },
  {
   "cell_type": "code",
   "execution_count": 3,
   "id": "1a07c935",
   "metadata": {},
   "outputs": [],
   "source": [
    "import numpy as np\n",
    "\n",
    "from plots import (\n",
    "    create_standard_figure, \n",
    "    axis_legend_remove_duplicates,\n",
    ")\n",
    "\n",
    "from common import (\n",
    "    plot_cone, \n",
    "    plot_spiral,\n",
    "    plot_center_pole, \n",
    "    spiral_arc_length_range,\n",
    "    plot_cone_and_sprial,\n",
    ")"
   ]
  },
  {
   "cell_type": "markdown",
   "id": "d3dafef1",
   "metadata": {},
   "source": [
    "## Arc Length of a Curve in Polar Coordinates\n",
    "\n",
    "Now that we can plot the spiral, how long is it? Essentially, we want to determine the length of the vector function:\n",
    "\n",
    "$$ \n",
    "\\begin{equation} \\tag{1}\n",
    "\\large \\vec r \\left(t \\right) = \\left \\langle f(t), g(t), h(t) \\right \\rangle \n",
    "\\end{equation}\n",
    "$$"
   ]
  },
  {
   "cell_type": "markdown",
   "id": "86973cf0",
   "metadata": {},
   "source": [
    "Writing the vector function in parametric form:\n",
    "\n",
    "$$\n",
    "\\begin{matrix}\n",
    "\\large x = f(t) \\\\\n",
    "\\large y = g(t) \\\\\n",
    "\\large z = h(t)\n",
    "\\end{matrix}\n",
    "$$"
   ]
  },
  {
   "cell_type": "markdown",
   "id": "ef77cd28",
   "metadata": {},
   "source": [
    "In 3 Dimensions, the length of the curve, $ \\vec r \\left(t \\right)$ on the interval $m_1 \\le t \\le m_2$ is:\n",
    "\n",
    "$$ \n",
    "\\large\n",
    "\\begin{equation} \\tag{2}\n",
    "L = \\int_{m_1}^{m_1} \\sqrt{\\left[f'(t)\\right]^2 + \\left[h'(t)\\right]^2 + \\left[g'(t) \\right]^2} \\; \\frac{\\mathrm{d} }{\\mathrm{d} t}\n",
    "\\end{equation}\n",
    "$$"
   ]
  },
  {
   "cell_type": "markdown",
   "id": "00c1ea1a",
   "metadata": {},
   "source": [
    "<div class=\"alert alert-block alert-info\"> <b>NOTE:</b> In the notebook,  <a href=\"./0 - conical spirals.ipynb\">`0 - conical spirals.ipynb`</a>, we represented the angle as $\\theta$. For this derivation, consider $t = \\theta$. We will continue to use $t$ to represent the polar angle. </div>"
   ]
  },
  {
   "cell_type": "markdown",
   "id": "7498b30b",
   "metadata": {},
   "source": [
    "The parametric equations for the spiral are:\n",
    "\n",
    "$$\n",
    "\\large \n",
    "\\begin{equation} \\tag{3}\n",
    "\\begin{matrix}\n",
    "x(t) = bt \\cos t \\\\ \n",
    "y(t) = bt \\sin t \\\\ \n",
    "z(t) = kt + z_0\n",
    "\\end{matrix}\n",
    "\\end{equation}\n",
    "$$\n",
    "\n",
    "Where $b$ and $k$ are constants that control the shape and height of the spiral and $t$ is the angle in radians controlling the number of `loops`."
   ]
  },
  {
   "cell_type": "markdown",
   "id": "309fee5b",
   "metadata": {},
   "source": [
    "<div class=\"alert alert-block alert-info\"> <b>NOTE:</b> In the notebook, <a href=\"./0 - conical spirals.ipynb\">`0 - conical spirals.ipynb`</a>, we represented the shape of the cone with $m$. For this document, consider $k = m$, from this point forward.  </div>"
   ]
  },
  {
   "cell_type": "markdown",
   "id": "216122c0",
   "metadata": {},
   "source": [
    "Take the derivative of each equation:\n",
    "\n",
    "$$\n",
    "\\large\n",
    "\\begin{equation} \\tag{4}\n",
    "\\begin{matrix}\n",
    "x'(t) =  b \\left( \\cos(t) - t \\sin(t) \\right) \\\\ \n",
    "y'(t) = b \\left(\\sin(t) + t \\cos(t) \\right) \\\\ \n",
    "z'(t) = k\n",
    "\\end{matrix}\n",
    "\\end{equation}\n",
    "$$"
   ]
  },
  {
   "cell_type": "markdown",
   "id": "28ac4df2",
   "metadata": {},
   "source": [
    "Let's rearrange things to make dealing with the polynomial and the radical easier:\n",
    "\n",
    "$$ \\left[ f'(x) \\right]^2 = \\left[ b \\cdot \\left(\\cos(t) - t \\sin(t) \\right) \\right]^2$$\n",
    "\n",
    "$$\\left[ f'(x) \\right]^2 = b^2 \\cos^2 t - b^2 t \\sin(2 t) + b^2 t^2 \\sin^2 t$$"
   ]
  },
  {
   "cell_type": "markdown",
   "id": "d58e1e7a",
   "metadata": {},
   "source": [
    "Where:\n",
    "\n",
    "$$\\sin(2 t) = 2 \\sin(t) \\cos(t)$$\n",
    "\n",
    "$$\\sin(t) \\cos(t) = \\frac{1}{2} \\cdot \\sin(2 t)$$\n",
    "\n",
    "$$\\sin^2 t + \\cos^2 t = 1$$"
   ]
  },
  {
   "cell_type": "markdown",
   "id": "c90ae264",
   "metadata": {},
   "source": [
    "$$ [h'(t)]^2 = \\left( b \\cdot \\left(\\sin(t) + t \\cdot \\cos(t) \\right) \\right)^2$$\n",
    "\n",
    "$$ [h'(t)]^2 = b^2 \\sin^2 t + b^2 t \\sin (2 t) + b^2 t^2 \\cos^2 t$$\n",
    "\n",
    "$$ [g'(t)]^2 = k^2$$\n",
    "\n",
    "$$ [f'(t)]^2 + h'(t)^2 + g'(t)^2 = b^2 + b^2 t^2 + k^2$$"
   ]
  },
  {
   "cell_type": "markdown",
   "id": "172079e8",
   "metadata": {},
   "source": [
    "$$ \n",
    "\\large \n",
    "\\begin{equation} \\tag{5}\n",
    "L = \\int_{m_1}^{m_1} \\sqrt{\\left[f'(t)\\right]^2 + \\left[h'(t)\\right]^2 + \\left[g'(t) \\right]^2} \\; \\frac{\\mathrm{d} }{\\mathrm{d} t}\n",
    "\\end{equation}\n",
    "$$"
   ]
  },
  {
   "cell_type": "markdown",
   "id": "89198798",
   "metadata": {},
   "source": [
    "<div class=\"alert alert-block alert-info\"> <b>NOTE:</b> Solving the integral we made use of :http://www.integral-calculator.com/ </div>"
   ]
  },
  {
   "cell_type": "markdown",
   "id": "d15ef4d1",
   "metadata": {},
   "source": [
    "Solve the integral. Substitute:\n",
    "\n",
    "$$t=\\frac{\\sqrt{k^2+b^2}\\tan\\left(u\\right)}{b} \\rightarrow u=\\arctan\\left(\\frac{bt}{\\sqrt{k^2+b^2}}\\right)$$\n",
    "\n",
    "$$ \\frac{\\mathrm{d}t}{\\mathrm{d}u}=\\frac{\\sqrt{k^2+b^2}\\sec^2\\left(u\\right)}{b}  $$\n",
    "\n",
    "$$ ={\\int}\\frac{\\sqrt{k^2+b^2}\\sec^2\\left(u\\right)\\sqrt{\\left(k^2+b^2\\right)\\tan^2\\left(u\\right)+k^2+b^2}}{b}\\,\\mathrm{d}u$$"
   ]
  },
  {
   "cell_type": "markdown",
   "id": "a56f3284",
   "metadata": {},
   "source": [
    "Simplify using:\n",
    "\n",
    "$$\\left(k^2+b^2\\right)\\tan^2\\left(u\\right)+k^2+b^2=\\left(k^2+b^2\\right)\\sec^2\\left(u\\right)$$"
   ]
  },
  {
   "cell_type": "markdown",
   "id": "45978deb",
   "metadata": {},
   "source": [
    "Becomes:\n",
    "\n",
    "$$=\\class{steps-node}{\\cssId{steps-node-1}{\\frac{k^2+b^2}{b}}}{\\int}\\sec^3\\left(u\\right)\\,\\mathrm{d}u$$"
   ]
  },
  {
   "cell_type": "markdown",
   "id": "07e33e41",
   "metadata": {},
   "source": [
    "Now Solving:\n",
    "\n",
    "$${\\int}\\sec^3\\left(u\\right)\\,\\mathrm{d}u$$"
   ]
  },
  {
   "cell_type": "markdown",
   "id": "c3f3d31b",
   "metadata": {},
   "source": [
    "Apply reduction formula with $n=3$:\n",
    "\n",
    "$$\\small{{\\int}\\sec^{\\mathtt{n}}\\left(u\\right)\\,\\mathrm{d}u=\\class{steps-node}{\\cssId{steps-node-2}{\\frac{\\mathtt{n}-2}{\\mathtt{n}-1}}}{\\int}\\sec^{\\mathtt{n}-2}\\left(u\\right)\\,\\mathrm{d}u+\\frac{\\sec^{\\mathtt{n}-2}\\left(u\\right)\\tan\\left(u\\right)}{\\mathtt{n}-1}}$$\n",
    "\n",
    "$$=\\class{steps-node}{\\cssId{steps-node-3}{\\frac{1}{2}}}{\\int}\\sec\\left(u\\right)\\,\\mathrm{d}u+\\frac{\\sec\\left(u\\right)\\tan\\left(u\\right)}{2}$$"
   ]
  },
  {
   "cell_type": "markdown",
   "id": "6ef2a485",
   "metadata": {},
   "source": [
    "Now Solving:\n",
    "\n",
    "$${\\int}\\sec\\left(u\\right)\\,\\mathrm{d}u =\\ln\\left(\\tan\\left(u\\right)+\\sec\\left(u\\right)\\right)$$\n",
    "\n",
    "The solution is a standard integral..."
   ]
  },
  {
   "cell_type": "markdown",
   "id": "6c05aa3c",
   "metadata": {},
   "source": [
    "Plugin solved integrals:\n",
    "\n",
    "$$\\class{steps-node}{\\cssId{steps-node-4}{\\frac{1}{2}}}{\\int}\\sec\\left(u\\right)\\,\\mathrm{d}u+\\frac{\\sec\\left(u\\right)\\tan\\left(u\\right)}{2} =\\frac{\\ln\\left(\\tan\\left(u\\right)+\\sec\\left(u\\right)\\right)}{2}+\\frac{\\sec\\left(u\\right)\\tan\\left(u\\right)}{2}$$\n",
    "\n",
    "$$\\class{steps-node}{\\cssId{steps-node-5}{\\frac{k^2+b^2}{b}}}{\\int}\\sec^3\\left(u\\right)\\,\\mathrm{d}u =\\frac{\\left(k^2+b^2\\right)\\ln\\left(\\tan\\left(u\\right)+\\sec\\left(u\\right)\\right)}{2b}+\\frac{\\left(k^2+b^2\\right)\\sec\\left(u\\right)\\tan\\left(u\\right)}{2b}$$"
   ]
  },
  {
   "cell_type": "markdown",
   "id": "24af5b97",
   "metadata": {},
   "source": [
    "Undo substitution:\n",
    "\n",
    "$$u=\\arctan\\left(\\frac{bt}{\\sqrt{k^2+b^2}}\\right)$$"
   ]
  },
  {
   "cell_type": "markdown",
   "id": "8010df21",
   "metadata": {},
   "source": [
    "Use:\n",
    "\n",
    "$$\\tan\\left(\\class{steps-node}{\\cssId{steps-node-6}{\\arctan\\left(\\frac{bt}{\\sqrt{k^2+b^2}}\\right)}}\\right)=\\frac{bt}{\\sqrt{k^2+b^2}}$$\n",
    "\n",
    "$$\\sec\\left(\\class{steps-node}{\\cssId{steps-node-7}{\\arctan\\left(\\frac{bt}{\\sqrt{k^2+b^2}}\\right)}}\\right)=\\sqrt{\\frac{b^2t^2}{k^2+b^2}+1}$$\n",
    "\n",
    "$$=\\frac{\\left(k^2+b^2\\right)\\ln\\left(\\sqrt{\\frac{b^2t^2}{k^2+b^2}+1}+\\frac{bt}{\\sqrt{k^2+b^2}}\\right)}{2b}+\\frac{\\sqrt{k^2+b^2}t\\sqrt{\\frac{b^2t^2}{k^2+b^2}+1}}{2}$$"
   ]
  },
  {
   "cell_type": "markdown",
   "id": "dd945bfd",
   "metadata": {},
   "source": [
    "Solution:"
   ]
  },
  {
   "cell_type": "markdown",
   "id": "80e06a61",
   "metadata": {},
   "source": [
    "$$\n",
    "\\large\n",
    "\\begin{equation} \\tag{6}\n",
    "\\begin{split}\n",
    "\\int \\sqrt{b^2t^2+k^2+b^2}\\,\\mathrm{d}t & =  \\\\\n",
    "& = \\frac{\\left(k^2+b^2\\right)\\ln\\left(\\left|\\sqrt{\\frac{b^2t^2}{k^2+b^2}+1}+\\frac{bt}{\\sqrt{k^2+b^2}}\\right|\\right)}{2b}+\\frac{\\sqrt{k^2+b^2}t\\sqrt{\\frac{b^2t^2}{k^2+b^2}+1}}{2}+C &  \\\\\n",
    "& =\\frac{\\left(k^2+b^2\\right)\\ln\\left(\\left|\\sqrt{b^2\\left(t^2+1\\right)+k^2}+bt\\right|\\right)+bt\\sqrt{b^2\\left(t^2+1\\right)+k^2}}{2b}+C\n",
    "\\end{split}\n",
    "\\end{equation}\n",
    "$$"
   ]
  },
  {
   "cell_type": "markdown",
   "id": "8e867d26",
   "metadata": {},
   "source": [
    "<div class=\"alert alert-block alert-info\"> <b>NOTE:</b> Applying the limits will eliminate the constant...</div>"
   ]
  },
  {
   "cell_type": "code",
   "execution_count": 4,
   "id": "a14c6645",
   "metadata": {},
   "outputs": [
    {
     "name": "stdout",
     "output_type": "stream",
     "text": [
      "Sprial Length = 4.236\n"
     ]
    }
   ],
   "source": [
    "# Cone\n",
    "r = 0.5 # m\n",
    "h = 2.5 # m\n",
    "d = 0.25 # spacing between loops\n",
    "\n",
    "al = spiral_arc_length_range(r, h, d)\n",
    "\n",
    "print('Sprial Length = {:.3f}'.format(al))"
   ]
  },
  {
   "cell_type": "code",
   "execution_count": 5,
   "id": "d47bae68",
   "metadata": {},
   "outputs": [
    {
     "ename": "SyntaxError",
     "evalue": "invalid syntax (3308686727.py, line 20)",
     "output_type": "error",
     "traceback": [
      "\u001b[0;36m  File \u001b[0;32m\"/tmp/ipykernel_32515/3308686727.py\"\u001b[0;36m, line \u001b[0;32m20\u001b[0m\n\u001b[0;31m    fig.show() ℎ\u001b[0m\n\u001b[0m               ^\u001b[0m\n\u001b[0;31mSyntaxError\u001b[0m\u001b[0;31m:\u001b[0m invalid syntax\n"
     ]
    }
   ],
   "source": [
    "fig, ax = create_standard_figure(\n",
    "    'Archimedean Spiral',\n",
    "    'x',\n",
    "    'y',\n",
    "    'z',\n",
    "    projection='3d',\n",
    "    figsize=(8, 8),                                                  \n",
    "    axes_rect=(0.1, 0.1, 0.85, 0.85), # rect [left, bottom, width, height]\n",
    ") \n",
    "\n",
    "# NOTE: Units are in what every system you want as long as all length units are the same (ft, m, inches, mm)\n",
    "\n",
    "# Cone\n",
    "r = 2 # m\n",
    "h = 5 # m\n",
    "d = 0.25 # spacing between loops\n",
    "\n",
    "plot_cone_and_sprial(ax, r, h, d)\n",
    "\n",
    "fig.show() ℎ"
   ]
  }
 ],
 "metadata": {
  "kernelspec": {
   "display_name": "Python 3 (ipykernel)",
   "language": "python",
   "name": "python3"
  },
  "language_info": {
   "codemirror_mode": {
    "name": "ipython",
    "version": 3
   },
   "file_extension": ".py",
   "mimetype": "text/x-python",
   "name": "python",
   "nbconvert_exporter": "python",
   "pygments_lexer": "ipython3",
   "version": "3.9.7"
  }
 },
 "nbformat": 4,
 "nbformat_minor": 5
}

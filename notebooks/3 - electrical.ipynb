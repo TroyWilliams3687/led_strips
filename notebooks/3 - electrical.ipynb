{
 "cells": [
  {
   "cell_type": "markdown",
   "id": "3e4a28ef",
   "metadata": {},
   "source": [
    "# LED Electrical Calculations\n",
    "\n",
    "Given an LED conical spiral of a given length determine various electrical attributes about the setup. This could be multiple strips including partials.\n",
    "\n",
    "LED Details:\n",
    "\n",
    "- How many LED strips?\n",
    "- How many LEDs per strip? Per unit length?\n",
    "- How many amps per LED?\n",
    "- How many watts per LED?\n",
    "- LED strip voltage?\n",
    "\n",
    "Questions?\n",
    "\n",
    "- Power requirements?\n",
    "- Power injection?\n",
    "- Power wire gauge?\n",
    "- Draw (amps) from mains?\n",
    "\n",
    "\n",
    "\n",
    "## References\n",
    "\n",
    "- https://www.waveformlighting.com/home-residential/how-to-choose-a-power-supply-for-your-led-strip-project\n",
    "- https://www.rapidtables.com/calc/wire/voltage-drop-calculator.html\n",
    "- https://www.rapidtables.com/calc/wire/wire-gauge-chart.html\n",
    "- https://www.reddit.com/r/WLED/comments/q7oxz4/so_glad_to_never_have_to_put_up_holiday_lights/\n",
    "- https://www.reddit.com/r/WLED/comments/pp9g0e/power_supply_injection_for_ws2812b_700_leds/\n",
    "- https://www.reddit.com/r/WLED/comments/kplt41/double_check_my_numbers_for_me_please/\n",
    "- https://www.reddit.com/r/WLED/comments/qmp7fy/power_injection_one_run_with_multiple_injects_or/\n",
    "- https://www.reddit.com/r/WLED/comments/qx9efb/voltage_drop_of_power_injection_wire/\n",
    "- https://quinled.info/2020/09/26/power-injection-livestream/"
   ]
  },
  {
   "cell_type": "markdown",
   "id": "1c56087f",
   "metadata": {},
   "source": [
    "# Formulae\n",
    "\n",
    "$$ \n",
    "\\begin{equation} \\tag{1}\n",
    "V = I \\cdot R\n",
    "\\end{equation}\n",
    "$$\n",
    "\n",
    "Where:\n",
    "\n",
    "- $V$ - Voltage (Volts)\n",
    "- $I$ - Amperage (Amps)\n",
    "- $R$ - Resistance (Ohms)"
   ]
  },
  {
   "cell_type": "markdown",
   "id": "3498abd5",
   "metadata": {},
   "source": [
    "## Power\n",
    "\n",
    "$$ \n",
    "\\begin{equation} \\tag{2}\n",
    "P = V \\cdot I \n",
    "\\end{equation}\n",
    "$$\n",
    "\n",
    "$$ \n",
    "\\begin{equation} \\tag{3}\n",
    "P = I^2 \\cdot R\n",
    "\\end{equation}\n",
    "$$\n",
    "\n",
    "$$ \n",
    "\\begin{equation} \\tag{4}\n",
    "P = V^2 \\cdot R \n",
    "\\end{equation}\n",
    "$$\n",
    "\n",
    "Where:\n",
    "\n",
    "- $P$ - Power (Watts)\n",
    "- $V$ - Voltage (Volts)\n",
    "- $I$ - Amperage (Amps)\n",
    "- $R$ - Resistance (Ohms)"
   ]
  },
  {
   "cell_type": "markdown",
   "id": "9a54ba8d",
   "metadata": {},
   "source": [
    "# Example 1\n",
    "\n",
    "\n",
    "Using the strip from [here](https://www.amazon.ca/APA102-Pixels-Seperately-SK9822-144LED/dp/B09CDHMS1M) as a reference. \n",
    "\n",
    "Strip details:\n",
    "- APA102\n",
    "- 5m\n",
    "- 60 LED/m\n",
    "- 5V DC\n",
    "- 18 Watt/m"
   ]
  },
  {
   "cell_type": "code",
   "execution_count": 1,
   "id": "03b8afdb",
   "metadata": {},
   "outputs": [],
   "source": [
    "import numpy as np\n",
    "from scipy import optimize"
   ]
  },
  {
   "cell_type": "code",
   "execution_count": 2,
   "id": "0d6a970d",
   "metadata": {},
   "outputs": [
    {
     "name": "stdout",
     "output_type": "stream",
     "text": [
      "Strip Details:\n",
      "LED Strip Length = 5 m\n",
      "Voltage          = 5 V\n",
      "LED Count        = 60 per m\n",
      "LED Count (tot)  = 300\n",
      "\n",
      "Strip Power Requirements:\n",
      "Watts per m      = 18 W/m\n",
      "Total Watts      = 90 W\n",
      "Watts per LED    = 0.3 W\n",
      "\n",
      "Strip Amps @ 5 V:\n",
      "Max Amps         = 18.0 A\n",
      "Max Amps per LED = 0.06 A (60.0 mA)\n",
      "\n",
      "Mains Power Requirements 90 W @ 120 V:\n",
      "Max Amps         = 0.75 A\n"
     ]
    }
   ],
   "source": [
    "length = 5                # m\n",
    "LED_count = 60            # LED/m\n",
    "watt_per_unit_length = 18 # watts per m\n",
    "strip_voltage = 5 # volts\n",
    "\n",
    "LED_total_count = LED_count*length\n",
    "\n",
    "total_power = watt_per_unit_length*length\n",
    "\n",
    "total_current = total_power/strip_voltage\n",
    "\n",
    "mains_voltage = 120 # V\n",
    "total_current_mains = total_power/mains_voltage\n",
    "\n",
    "\n",
    "print('Strip Details:')\n",
    "print(f'LED Strip Length = {length} m')\n",
    "print(f'Voltage          = {strip_voltage} V')\n",
    "print(f'LED Count        = {LED_count} per m')\n",
    "print(f'LED Count (tot)  = {LED_total_count}') \n",
    "print()\n",
    "\n",
    "print('Strip Power Requirements:')\n",
    "print(f'Watts per m      = {watt_per_unit_length} W/m')\n",
    "print(f'Total Watts      = {total_power} W') \n",
    "print(f'Watts per LED    = {total_power/LED_total_count} W')\n",
    "print()\n",
    "\n",
    "print(f'Strip Amps @ {strip_voltage} V:')\n",
    "print(f'Max Amps         = {total_current} A')\n",
    "print(f'Max Amps per LED = {total_current/LED_total_count} A ({1000*total_current/LED_total_count} mA)')\n",
    "print()\n",
    "\n",
    "print(f'Mains Power Requirements {total_power} W @ {mains_voltage} V:')\n",
    "print(f'Max Amps         = {total_current_mains} A')"
   ]
  },
  {
   "cell_type": "markdown",
   "id": "18baae3f",
   "metadata": {},
   "source": [
    "The power requirements for this strip is 90 Watts. This means we have to provide a power supply that can produce 90 Watts at 5 V. You would probably want to double that wattage and look for something in the 150 W to 180 W range. Essentially, the power supply should be able to produce 30 A to 40 A at 5 V. That would be 1.25 A to 1.5 A at 120 V."
   ]
  },
  {
   "cell_type": "markdown",
   "id": "48dfb88d",
   "metadata": {},
   "source": [
    "# Voltage drop - DC Power line"
   ]
  },
  {
   "cell_type": "markdown",
   "id": "67efd08b",
   "metadata": {},
   "source": [
    "## Resistivity\n",
    "\n",
    "- <https://en.wikipedia.org/wiki/Electrical_resistivity_and_conductivity#Resistivity_and_conductivity_of_various_materials>\n",
    "\n",
    "\n",
    ">Electrical resistivity (also called specific electrical resistance or volume resistivity) is a fundamental property of a material that measures how strongly it resists electric current. A low resistivity indicates a material that readily allows electric current. Resistivity is commonly represented by the Greek letter ρ (rho). The SI unit of electrical resistivity is the ohm-meter (Ω⋅m).For example, if a 1 m3 solid cube of material has sheet contacts on two opposite faces, and the resistance between these contacts is 1 Ω, then the resistivity of the material is 1 Ω⋅m. \n",
    "\n",
    "Resistivity, $\\rho$, is in units of ohm meters, $\\left( \\Omega \\cdot m \\right)$. The SI base units are: \n",
    "\n",
    "$$\\text{kg} \\cdot m^3 \\cdot s^{-3} \\cdot A^{-2}$$ \n",
    "\n",
    "or \n",
    "\n",
    "$$\\frac{\\text{kg} \\cdot m^3}{s^3 \\cdot A^2} $$"
   ]
  },
  {
   "cell_type": "markdown",
   "id": "0b30cef8",
   "metadata": {},
   "source": [
    "From [Wikipedia](https://en.wikipedia.org/wiki/Electrical_resistivity_and_conductivity#Resistivity_and_conductivity_of_various_materials), this table shows the resistivity (ρ), conductivity and temperature coefficient of various materials at 20 °C (68 °F; 293 K).\n",
    "\n",
    "| Material                                        | Resistivity, ρ,  at 20 °C (Ω·m)   | Conductivity, σ,  at 20 °C (S/m)  | Temperature coefficient[c] (K−1)  |\n",
    "|-------------------------------------------------|-----------------------------------|-----------------------------------|-----------------------------------|\n",
    "| Silver[d]                                       | 1.59×10−8                         | 6.30×107                          | 3.80×10−3                         |\n",
    "| Copper[e]                                       | 1.68×10−8                         | 5.96×107                          | 4.04×10−3                         |\n",
    "| Annealed copper[f]                              | 1.72×10−8                         | 5.80×107                          | 3.93×10−3                         |\n",
    "| Gold[g]                                         | 2.44×10−8                         | 4.11×107                          | 3.40×10−3                         |\n",
    "| Aluminium[h]                                    | 2.65×10−8                         | 3.77×107                          | 3.90×10−3                         |\n",
    "| Calcium                                         | 3.36×10−8                         | 2.98×107                          | 4.10×10−3                         |\n",
    "| Tungsten                                        | 5.60×10−8                         | 1.79×107                          | 4.50×10−3                         |\n",
    "| Zinc                                            | 5.90×10−8                         | 1.69×107                          | 3.70×10−3                         |\n",
    "| Cobalt[i]                                       | 6.24×10−8                         | 1.60×107                          | 7.00×10−3[30][unreliable source?] |\n",
    "| Nickel                                          | 6.99×10−8                         | 1.43×107                          | 6.00×10−3                         |\n",
    "| Ruthenium[i]                                    | 7.10×10−8                         | 1.41×107                          |                                   |\n",
    "| Lithium                                         | 9.28×10−8                         | 1.08×107                          | 6.00×10−3                         |\n",
    "| Iron                                            | 9.70×10−8                         | 1.03×107                          | 5.00×10−3                         |\n",
    "| Platinum                                        | 10.6×10−8                         | 9.43×106                          | 3.92×10−3                         |\n",
    "| Tin                                             | 10.9×10−8                         | 9.17×106                          | 4.50×10−3                         |\n",
    "| Gallium                                         | 14.0×10−8                         | 7.10×106                          | 4.00×10−3                         |\n",
    "| Niobium                                         | 14.0×10−8                         | 7.00×106                          |                                   |\n",
    "| Carbon steel (1010)                             | 14.3×10−8                         | 6.99×106                          |                                   |\n",
    "| Lead                                            | 22.0×10−8                         | 4.55×106                          | 3.90×10−3                         |\n",
    "| Galinstan                                       | 28.9×10−8                         | 3.46×106                          |                                   |\n",
    "| Titanium                                        | 42.0×10−8                         | 2.38×106                          | 3.80×10−3                         |\n",
    "| Grain oriented electrical steel                 | 46.0×10−8                         | 2.17×106                          |                                   |\n",
    "| Manganin                                        | 48.2×10−8                         | 2.07×106                          | 0.002×10−3                        |\n",
    "| Constantan                                      | 49.0×10−8                         | 2.04×106                          | 0.008×10−3                        |\n",
    "| Stainless steel[j]                              | 69.0×10−8                         | 1.45×106                          | 0.94×10−3                         |\n",
    "| Mercury                                         | 98.0×10−8                         | 1.02×106                          | 0.90×10−3                         |\n",
    "| Manganese                                       | 144×10−8                          | 6.94×105                          |                                   |\n",
    "| Nichrome[k]                                     | 110×10−8                          | 6.70×105 [citation needed]        | 0.40×10−3                         |\n",
    "| Carbon (graphite) parallel to basal plane[l]    | 250×10−8 to 500×10−8              | 2×105 to 3×105 [citation needed]  |                                   |\n",
    "| Carbon (amorphous)                              | 0.5×10−3 to 0.8×10−3              | 1.25×103 to 2.00×103              | −0.50×10−3                        |\n",
    "| Carbon (graphite) perpendicular to basal plane  | 3.0×10−3                          | 3.3×102                           |                                   |\n",
    "| GaAs                                            | 10−3 to 108[clarification needed] | 10−8 to 103[dubious – discuss]    |                                   |\n",
    "| Germanium[m]                                    | 4.6×10−1                          | 2.17                              | −48.0×10−3                        |\n",
    "| Sea water[n]                                    | 2.1×10−1                          | 4.8                               |                                   |\n",
    "| Swimming pool water[o]                          | 3.3×10−1 to 4.0×10−1              | 0.25 to 0.30                      |                                   |\n",
    "| Drinking water[p]                               | 2×101 to 2×103                    | 5×10−4 to 5×10−2                  |                                   |\n",
    "| Silicon[m]                                      | 2.3×103                           | 4.35×10−4                         | −75.0×10−3                        |\n",
    "| Wood (damp)                                     | 103 to 104                        | 10−4 to 10−3                      |                                   |\n",
    "| Deionized water[q]                              | 1.8×105                           | 4.2×10−5                          |                                   |\n",
    "| Glass                                           | 1011 to 1015                      | 10−15 to 10−11                    |                                   |\n",
    "| Carbon (diamond)                                | 1012                              | ~10−13                            |                                   |\n",
    "| Hard rubber                                     | 1013                              | 10−14                             |                                   |\n",
    "| Air                                             | 109 to 1015                       | ~10−15 to 10−9                    |                                   |\n",
    "| Wood (oven dry)                                 | 1014 to 1016                      | 10−16 to 10−14                    |                                   |\n",
    "| Sulfur                                          | 1015                              | 10−16                             |                                   |\n",
    "| Fused quartz                                    | 7.5×1017                          | 1.3×10−18                         |                                   |\n",
    "| PET                                             | 1021                              | 10−21                             |                                   |\n",
    "| Teflon                                          | 1023 to 1025                      | 10−25 to 10−23                    |                                   |\n",
    "\n",
    "\n",
    ">The effective temperature coefficient varies with temperature and purity level of the material. The 20 °C value is only an approximation when used at other temperatures. For example, the coefficient becomes lower at higher temperatures for copper, and the value 0.00427 is commonly specified at 0 °C.\n",
    "\n",
    "[Reference](https://en.wikipedia.org/wiki/Electrical_resistivity_and_conductivity#Resistivity_and_conductivity_of_various_materials)\n",
    "\n"
   ]
  },
  {
   "cell_type": "code",
   "execution_count": 3,
   "id": "bc965f03",
   "metadata": {},
   "outputs": [],
   "source": [
    "# Resistivity of selected elements (Ω·m) \n",
    "# Source https://en.wikipedia.org/wiki/Electrical_resistivity_and_conductivity\n",
    "\n",
    "# All values are in Ω·m:\n",
    "resistivity = {    \n",
    "    'Copper':              1.72E-8,\n",
    "    'Aluminum':            2.65E-8,\n",
    "    'Carbon Steel':       14.3E-8,\n",
    "    'Electrical Steel':   46.0E-8,\n",
    "    'Gold':                2.44E-8,\n",
    "    'Nichrome':          110.0E-8,\n",
    "    'Nickel':              6.99E-8,\n",
    "    'Silver':              1.59E-8,\n",
    "    'Copper (elemental)':  1.68E-8,    \n",
    "}"
   ]
  },
  {
   "cell_type": "markdown",
   "id": "b910e20e",
   "metadata": {},
   "source": [
    "## Wire Resistance\n",
    "\n",
    "To effectively perform the wire voltage drop calculations, we need to understand the resistance of the wire based on its material property and its cross-sectional area $\\left(\\text{mm}^2\\right)$. We'll use resistivity (above) and we'll use the [American Wire Gauge](https://en.wikipedia.org/wiki/American_wire_gauge) standard for cross-sectional area.\n",
    "\n",
    "[Wikipedia](https://en.wikipedia.org/wiki/American_wire_gauge):\n",
    "\n",
    ">American Wire Gauge (AWG), also known as the Brown & Sharpe wire gauge, is a logarithmic stepped standardized wire gauge system used since 1857, predominantly in North America, for the diameters of round, solid, nonferrous, electrically conducting wire. Dimensions of the wires are given in ASTM standard B 258. The cross-sectional area of each gauge is an important factor for determining its current-carrying ampacity.\n",
    ">\n",
    ">Increasing gauge numbers denote decreasing wire diameters, which is similar to many other non-metric gauging systems such as British Standard Wire Gauge (SWG), but unlike IEC 60228, the metric wire-size standard used in most parts of the world. This gauge system originated in the number of drawing operations used to produce a given gauge of wire. Very fine wire (for example, 30 gauge) required more passes through the drawing dies than 0 gauge wire did. Manufacturers of wire formerly had proprietary wire gauge systems; the development of standardized wire gauges rationalized selection of wire for a particular purpose.\n",
    ">\n",
    ">The AWG tables are for a single, solid and round conductor. The AWG of a stranded wire is determined by the cross-sectional area of the equivalent solid conductor. Because there are also small gaps between the strands, a stranded wire will always have a slightly larger overall diameter than a solid wire with the same AWG. \n",
    "\n",
    "\n",
    "AWG goes from n = 0 to 40, including `0000`, `000`, `00`. Smaller values of `n` are larger in diameter."
   ]
  },
  {
   "cell_type": "markdown",
   "id": "3c326796",
   "metadata": {},
   "source": [
    "### AWG Diameter\n",
    "\n",
    "\n",
    "$$ \n",
    "\\begin{equation} \\tag{5}\n",
    "d_n = 0.127 \\cdot 92^{\\frac{36 - n}{39}}\n",
    "\\end{equation}\n",
    "$$\n",
    "\n",
    "Where:\n",
    "- $d_n$ - AWG wire diameter in milimeters $\\left( \\text{mm} \\right)$\n",
    "- $n$ - AWG index number from -3 to 40. \n",
    "    - n = -1 for `00`, n=-2 for `000`, n = -3 for `0000` \n",
    "    - For example, for n = 0, the gauge used `AWG 0`, as-is; for n = − 1, the gauge is either `00` or `2/0`; for n = − 2, either `000` or `3/0`; n = − 3, either `0000` or `4/0`\n"
   ]
  },
  {
   "cell_type": "code",
   "execution_count": 4,
   "id": "2fb63f50",
   "metadata": {},
   "outputs": [],
   "source": [
    "def awg_diameter(n:int) -> float:\n",
    "    \"\"\"\n",
    "    Given an AWG gauge number, n, return the diameter in millimeters (mm).\n",
    "    \"\"\"\n",
    "    \n",
    "    return 0.127*92**((36 - n)/39)"
   ]
  },
  {
   "cell_type": "code",
   "execution_count": 5,
   "id": "5fcbf5bc",
   "metadata": {},
   "outputs": [
    {
     "name": "stdout",
     "output_type": "stream",
     "text": [
      "AWG 5 = 4.621 mm\n"
     ]
    }
   ],
   "source": [
    "n = 5\n",
    "d = awg_diameter(n)\n",
    "print(f'AWG {n} = {d:.3f} mm')"
   ]
  },
  {
   "cell_type": "markdown",
   "id": "45614276",
   "metadata": {},
   "source": [
    "### AWG Area (Cross-Section)\n",
    "\n",
    "\n",
    "$$\n",
    "\\begin{equation} \\tag{6}\n",
    "A_n = \\frac{\\pi}{4} \\cdot d_n^2\n",
    "\\end{equation}\n",
    "$$\n"
   ]
  },
  {
   "cell_type": "code",
   "execution_count": 6,
   "id": "b509956c",
   "metadata": {},
   "outputs": [],
   "source": [
    "def awg_area(n:int) -> float:\n",
    "    \"\"\"\n",
    "    Given an AWG gauge number, n, return the cross-sectional \n",
    "    area in mm^2.\n",
    "    \"\"\"\n",
    "    \n",
    "    d = awg_diameter(n)\n",
    "    \n",
    "    return (np.pi/4)*d**2"
   ]
  },
  {
   "cell_type": "code",
   "execution_count": 7,
   "id": "e5c0c883",
   "metadata": {},
   "outputs": [
    {
     "name": "stdout",
     "output_type": "stream",
     "text": [
      "AWG 5 = 16.773 mm^2\n"
     ]
    }
   ],
   "source": [
    "n = 5\n",
    "a = awg_area(n)\n",
    "print(f'AWG {n} = {a:.3f} mm^2')"
   ]
  },
  {
   "cell_type": "markdown",
   "id": "58a474d4",
   "metadata": {},
   "source": [
    "## Resistance\n",
    "\n",
    "We use the resistivity of the material and divide it by the cross-sectional area:\n",
    "\n",
    "$$ \n",
    "\\begin{equation} \\tag{7}\n",
    "R_n = \\frac{\\rho}{A_n} \n",
    "\\end{equation}\n",
    "$$\n",
    "\n",
    "Where:\n",
    "\n",
    "- $R_n$ - Wire resistance per unit length $\\left( \\frac{\\Omega}{m} \\right)$\n"
   ]
  },
  {
   "cell_type": "code",
   "execution_count": 8,
   "id": "0c839d5e",
   "metadata": {},
   "outputs": [],
   "source": [
    "def wire_resistance(n:int, resistivity:float) -> float:\n",
    "    \"\"\"\n",
    "    Given the AWG gauge index and the conductor resistivity, \n",
    "    determine the resistance per unit length (Ω/m).\n",
    "    \n",
    "    # args\n",
    "    \n",
    "    n - The index number representing the AWG wire gauge.\n",
    "    \n",
    "    resistivity - The resistivity of the conductor in Ω/m.\n",
    "    \n",
    "    \"\"\"\n",
    "    \n",
    "    # determine the cross-sectional area (square millimeters (mm^2)) of the \n",
    "    # AWG wire gauge, n\n",
    "    \n",
    "    a = awg_area(n)*1E-6 # convert the area to m^2\n",
    "    \n",
    "    return resistivity/a"
   ]
  },
  {
   "cell_type": "code",
   "execution_count": 9,
   "id": "94a1d5ba",
   "metadata": {},
   "outputs": [
    {
     "name": "stdout",
     "output_type": "stream",
     "text": [
      "Resistance per unit length = 1.025e-03 (Ω/m)\n",
      "Resistance per unit length = 1.025 (mΩ/m)\n"
     ]
    }
   ],
   "source": [
    "q = wire_resistance(5, resistivity[\"Copper\"])\n",
    "print(f'Resistance per unit length = {q:.3e} (Ω/m)')\n",
    "print(f'Resistance per unit length = {q*1E3:.3f} (mΩ/m)')"
   ]
  },
  {
   "cell_type": "markdown",
   "id": "ee6e3e90",
   "metadata": {},
   "source": [
    "## Voltage Drop Calculations\n",
    "\n",
    "- <https://www.rapidtables.com/calc/wire/voltage-drop-calculator.html#calculations>"
   ]
  },
  {
   "cell_type": "markdown",
   "id": "c995182a",
   "metadata": {},
   "source": [
    "### Voltage Drop - DC\n",
    "\n",
    "The voltage drop is, $ V = I \\cdot R$, where:\n",
    "\n",
    "- $V$ - Voltage drop\n",
    "- $I$ - Current in amps\n",
    "- $R$ - Resistance in Ohms $\\left ( \\Omega \\right)$\n",
    "\n",
    "The resistance of the power wires is calculated by the length of the wire and its resistivity."
   ]
  },
  {
   "cell_type": "markdown",
   "id": "17918355",
   "metadata": {},
   "source": [
    "<div class=\"alert alert-block alert-info\"> <b>NOTE</b> For power lines, we normally double the length, one length for the hot wire, the other for the ground wire. The following calculation will make that assumption. </div>"
   ]
  },
  {
   "cell_type": "code",
   "execution_count": 10,
   "id": "268e0ac4",
   "metadata": {},
   "outputs": [
    {
     "name": "stdout",
     "output_type": "stream",
     "text": [
      "Voltage Drop            = 0.0205089V\n",
      "% Voltage Drop          = 0.4101777%\n",
      "Wire Resistance one-way = 0.0010254Ω\n",
      "Wire Resistance two-way = 0.0020509Ω\n"
     ]
    }
   ],
   "source": [
    "n = 5\n",
    "l = 10 # one-way length in meters\n",
    "target_v = 5 # volts\n",
    "current = 1 # amp\n",
    "\n",
    "r_wire = wire_resistance(n, resistivity[\"Copper\"])\n",
    "\n",
    "v_drop = current*(2*l*r_wire)\n",
    "\n",
    "print(f'Voltage Drop            = {v_drop:.7f}V')\n",
    "print(f'% Voltage Drop          = {v_drop/target_v:.7%}')\n",
    "\n",
    "print(f'Wire Resistance one-way = {r_wire:.7f}Ω')\n",
    "print(f'Wire Resistance two-way = {2*r_wire:.7f}Ω')\n"
   ]
  },
  {
   "cell_type": "markdown",
   "id": "2120c16b",
   "metadata": {},
   "source": [
    "For a length of power line that is 10 meters (20 meters of total length hot + ground), At 5 volts and 1 amp, the voltage drop is 0.021 volts. That is a 0.41% drop in voltage across that total length. This result matches the on-line calculator [here](https://www.rapidtables.com/calc/wire/voltage-drop-calculator.html#calculations)."
   ]
  },
  {
   "cell_type": "code",
   "execution_count": 11,
   "id": "e91e6ed9",
   "metadata": {},
   "outputs": [],
   "source": [
    "def voltage_drop(n, current, wire_length, resistivity):\n",
    "    \"\"\"\n",
    "    \n",
    "    # args\n",
    "    \n",
    "    n - The index number representing the AWG wire gauge.\n",
    "    \n",
    "    current - The current (Amps) we will run through the wire\n",
    "    \n",
    "    wire_length - Total length of wire run involved. For power lines, it will be \n",
    "                  typically twice the distance because we have to run two lines for \n",
    "                  ground and hot (m)\n",
    "       \n",
    "    resistivity - The resistivity of the conductor in Ω/m.\n",
    "    \n",
    "    # Return\n",
    "    \n",
    "    The voltage drop (Volts) across the wire\n",
    "    \n",
    "    \"\"\"\n",
    "    \n",
    "    return current*wire_length*wire_resistance(n, resistivity)    "
   ]
  },
  {
   "cell_type": "code",
   "execution_count": 12,
   "id": "764efa2b",
   "metadata": {},
   "outputs": [
    {
     "name": "stdout",
     "output_type": "stream",
     "text": [
      "Voltage Drop            = 0.0205089V\n",
      "% Voltage Drop          = 0.4101777%\n",
      "Wire Resistance one-way = 0.0010254Ω\n",
      "Wire Resistance two-way = 0.0020509Ω\n"
     ]
    }
   ],
   "source": [
    "n = 5\n",
    "l = 10 # one-way length in meters\n",
    "target_v = 5 # volts\n",
    "current = 1 # amp\n",
    "\n",
    "v_drop = voltage_drop(n, current, 2*l, resistivity[\"Copper\"])\n",
    "\n",
    "print(f'Voltage Drop            = {v_drop:.7f}V')\n",
    "print(f'% Voltage Drop          = {v_drop/target_v:.7%}')\n",
    "\n",
    "print(f'Wire Resistance one-way = {r_wire:.7f}Ω')\n",
    "print(f'Wire Resistance two-way = {2*r_wire:.7f}Ω')"
   ]
  },
  {
   "cell_type": "markdown",
   "id": "7e249155",
   "metadata": {},
   "source": [
    "# Voltage Drop - Optimize\n",
    "\n",
    "Given the target voltage, find an AWG diameter that produces a voltage drip that is less than or equal to a pre-defined percent voltage drop. We need to create an objective function."
   ]
  },
  {
   "cell_type": "code",
   "execution_count": 13,
   "id": "f92e3932",
   "metadata": {},
   "outputs": [],
   "source": [
    "def objective_function(\n",
    "    x, \n",
    "    voltage:float, \n",
    "    current:float,\n",
    "    length:float,      \n",
    "    resistivity:float,\n",
    "    voltage_drop_ratio:float,\n",
    "):\n",
    "    \"\"\"\n",
    "    This method defines the objective function, the function we want to minimize.\n",
    "    This particular instance will search for r, h and d that generates a particular arc length, L.\n",
    "    \n",
    "    # args\n",
    "    \n",
    "    \n",
    "    x - 1-D array with shape (n,) of variables to solve for\n",
    "        - x[0] - n - AWG wire gauge index\n",
    "        - x[1] - \n",
    "        - x[2] - \n",
    "    \n",
    "    voltage - The voltage (Volts) we want to maintain i.e. 5 volts\n",
    "    \n",
    "    current - The current (Amps) we will run through the wire\n",
    "    \n",
    "    length - Total length of wire run involved. For power lines, it will be \n",
    "             typically twice the distance because we have to run two lines for \n",
    "             ground and hot\n",
    "             \n",
    "    resistivity - The resistivity (Ω·m) of the conductor material in the wire\n",
    "    \n",
    "    voltage_drop_ratio - Ratio of voltage_drop/target_voltage that is acceptable \n",
    "                         for the length, 0.1 (10%) for example\n",
    "            \n",
    "    # NOTE\n",
    "    \n",
    "    From the Scipy.Optimization docs: \n",
    "    \n",
    "    The objective function to be minimized.\n",
    "\n",
    "    fun(x, *args) -> float\n",
    "\n",
    "    where x is an 1-D array with shape (n,) and args is a tuple of the \n",
    "    fixed parameters needed to completely specify the function.   \n",
    "    \n",
    "    \"\"\"\n",
    "    \n",
    "    v_drop = voltage_drop(x, current, length, resistivity)\n",
    "\n",
    "    return np.abs(voltage_drop_ratio - v_drop/voltage)"
   ]
  },
  {
   "cell_type": "code",
   "execution_count": 14,
   "id": "1b704af0",
   "metadata": {},
   "outputs": [
    {
     "name": "stdout",
     "output_type": "stream",
     "text": [
      "Optimal Values:\n",
      "n = 18.7729\n",
      "---------\n",
      "n = 18\n",
      "Voltage = 5\n",
      "Current = 1\n",
      "Length  = 20\n",
      "Voltage Drop            = 0.4179592V\n",
      "% Voltage Drop          = 8.3591841%\n",
      "Wire Resistance one-way = 0.0010254Ω\n",
      "Wire Resistance two-way = 0.0020509Ω\n"
     ]
    }
   ],
   "source": [
    "# One-way length = 10 m, we'll use 20m\n",
    "# Our target voltage is 5 V\n",
    "# Current = 1 amp\n",
    "# We'll use copper wires\n",
    "# percentage drop is 10% (0.1)\n",
    "\n",
    "l = 20 \n",
    "target_v = 5 \n",
    "current = 1 \n",
    "drop_ratio = 0.1\n",
    "\n",
    "# This yields the same answer as the minimize routine\n",
    "result = optimize.minimize_scalar(\n",
    "    objective_function, \n",
    "    (0, ), \n",
    "    args=(target_v, current, l, resistivity['Copper'], drop_ratio), \n",
    "    bounds=(-3, 40), \n",
    "    method='bounded',     \n",
    ")\n",
    "\n",
    "# print(result)\n",
    "# print('-------')\n",
    "\n",
    "print('Optimal Values:')\n",
    "print(f'n = {result.x:.4f}')\n",
    "# print(f'h = {result.x[1]:.4f}')\n",
    "# print(f'd = {result.x[2]:.4f}')\n",
    "print('---------')\n",
    "\n",
    "n = int(result.x)\n",
    "\n",
    "v_drop = voltage_drop(n, current, l, resistivity[\"Copper\"])\n",
    "\n",
    "print(f'n = {n}')\n",
    "print(f'Voltage = {target_v}')\n",
    "print(f'Current = {current}')\n",
    "print(f'Length  = {l}')\n",
    "\n",
    "print(f'Voltage Drop            = {v_drop:.7f}V')\n",
    "print(f'% Voltage Drop          = {v_drop/target_v:.7%}')\n",
    "\n",
    "print(f'Wire Resistance one-way = {r_wire:.7f}Ω')\n",
    "print(f'Wire Resistance two-way = {2*r_wire:.7f}Ω')"
   ]
  },
  {
   "cell_type": "markdown",
   "id": "3521cd20",
   "metadata": {},
   "source": [
    ">NOTE: The optimize method returns a float. We can cast that to an integer and get good results. I don't think we need to use scipy for this, a simple brute force should suffice."
   ]
  },
  {
   "cell_type": "code",
   "execution_count": 15,
   "id": "a8c42d70",
   "metadata": {},
   "outputs": [
    {
     "name": "stdout",
     "output_type": "stream",
     "text": [
      "----\n",
      "n = 18\n",
      "Voltage = 5\n",
      "Current = 1\n",
      "Length  = 20\n",
      "Voltage Drop            = 0.4179592V\n",
      "% Voltage Drop          = 8.3591841%\n",
      "Wire Resistance one-way = 0.0010254Ω\n",
      "Wire Resistance two-way = 0.0020509Ω\n"
     ]
    }
   ],
   "source": [
    "# Brute force search\n",
    "\n",
    "l = 20 \n",
    "target_v = 5 \n",
    "current = 1 \n",
    "drop_ratio = 0.1\n",
    "\n",
    "best_n = None\n",
    "\n",
    "for n in range(-3, 40):\n",
    "    v_drop = voltage_drop(n, current, l, resistivity[\"Copper\"])\n",
    "    \n",
    "    if v_drop/target_v <= drop_ratio:    \n",
    "#         print(f'n={n:>3}; drop={v_drop:>8.4f}V; % drop = {v_drop/target_v:>10.4%}')\n",
    "        best_n = n\n",
    "    else:\n",
    "        break\n",
    "        \n",
    "print('----')\n",
    "print(f'n = {best_n}')\n",
    "print(f'Voltage = {target_v}')\n",
    "print(f'Current = {current}')\n",
    "print(f'Length  = {l}')\n",
    "\n",
    "v_drop = voltage_drop(best_n, current, l, resistivity[\"Copper\"])\n",
    "\n",
    "print(f'Voltage Drop            = {v_drop:.7f}V')\n",
    "print(f'% Voltage Drop          = {v_drop/target_v:.7%}')\n",
    "\n",
    "print(f'Wire Resistance one-way = {r_wire:.7f}Ω')\n",
    "print(f'Wire Resistance two-way = {2*r_wire:.7f}Ω')    "
   ]
  },
  {
   "cell_type": "code",
   "execution_count": 16,
   "id": "569636c9",
   "metadata": {},
   "outputs": [],
   "source": [
    "def search_awg_voltage_drop( \n",
    "    voltage:float, \n",
    "    current:float,\n",
    "    length:float,      \n",
    "    resistivity:float,\n",
    "    voltage_drop_ratio:float,\n",
    "):\n",
    "    \"\"\"\n",
    "    Search all AWG wire gauges for the gauge that provides the closest match to the \n",
    "    voltage drop ratio.\n",
    "    \n",
    "    # args\n",
    "    \n",
    "    voltage - The voltage (Volts) we want to maintain i.e. 5 volts\n",
    "    \n",
    "    current - The current (Amps) we will run through the wire\n",
    "    \n",
    "    length - Total length of wire run involved. For power lines, it will be \n",
    "             typically twice the distance because we have to run two lines for \n",
    "             ground and hot\n",
    "             \n",
    "    resistivity - The resistivity (Ω·m) of the conductor material in the wire\n",
    "    \n",
    "    voltage_drop_ratio - Ratio of voltage_drop/target_voltage that is acceptable \n",
    "                         for the length, 0.1 (10%) for example\n",
    "    \n",
    "    # Return \n",
    "    \n",
    "    The AWG wire gauge index, n,that is just below the voltage drop ratio specified.\n",
    "        \n",
    "    \"\"\"\n",
    "    \n",
    "    best_n = None\n",
    "\n",
    "    for n in range(-3, 40):\n",
    "        drop = voltage_drop(n, current, length, resistivity)\n",
    "\n",
    "        if drop/voltage <= voltage_drop_ratio:        \n",
    "            best_n = n\n",
    "        else:\n",
    "            break\n",
    "        \n",
    "    return best_n\n",
    "    "
   ]
  },
  {
   "cell_type": "markdown",
   "id": "c9e1c79e",
   "metadata": {},
   "source": [
    "It is probably more pragmatic, to simple search the space till we find the proper value."
   ]
  },
  {
   "cell_type": "markdown",
   "id": "100f98d3",
   "metadata": {},
   "source": [
    "First Data set:"
   ]
  },
  {
   "cell_type": "code",
   "execution_count": 17,
   "id": "19f25256",
   "metadata": {},
   "outputs": [
    {
     "name": "stdout",
     "output_type": "stream",
     "text": [
      "n = 18\n",
      "Voltage = 5\n",
      "Current = 1\n",
      "Length  = 20\n",
      "Voltage Drop            = 0.4179592V\n",
      "% Voltage Drop          = 8.3591841%\n"
     ]
    }
   ],
   "source": [
    "length = 20 \n",
    "voltage = 5 \n",
    "current = 1 \n",
    "drop_ratio = 0.1\n",
    "\n",
    "best_n = search_awg_voltage_drop( \n",
    "    voltage, \n",
    "    current,\n",
    "    length,      \n",
    "    resistivity[\"Copper\"],\n",
    "    drop_ratio,\n",
    ")\n",
    "      \n",
    "\n",
    "print(f'n = {best_n}')\n",
    "print(f'Voltage = {target_v}')\n",
    "print(f'Current = {current}')\n",
    "print(f'Length  = {l}')\n",
    "\n",
    "v_drop = voltage_drop(best_n, current, length, resistivity[\"Copper\"])\n",
    "\n",
    "print(f'Voltage Drop            = {v_drop:.7f}V')\n",
    "print(f'% Voltage Drop          = {v_drop/voltage:.7%}')"
   ]
  },
  {
   "cell_type": "markdown",
   "id": "303aa8b0",
   "metadata": {},
   "source": [
    "We want to find a suitable wire gauge for 5 volts and 1 amp of current for a 20 meter total run. It looks like AWG 18 is most suitable. It has a voltage drop of about 8% over that length."
   ]
  },
  {
   "cell_type": "markdown",
   "id": "9b26744e",
   "metadata": {},
   "source": [
    "Second Data set:"
   ]
  },
  {
   "cell_type": "code",
   "execution_count": 18,
   "id": "a315f654",
   "metadata": {},
   "outputs": [
    {
     "name": "stdout",
     "output_type": "stream",
     "text": [
      "n = 22\n",
      "Voltage = 5\n",
      "Current = 1\n",
      "Length  = 20\n",
      "Voltage Drop            = 1.0567254V\n",
      "% Voltage Drop          = 8.8060454%\n"
     ]
    }
   ],
   "source": [
    "length = 20 # x2 for the ground and power wires\n",
    "voltage = 12 \n",
    "current = 1 \n",
    "drop_ratio = 0.1\n",
    "\n",
    "best_n = search_awg_voltage_drop( \n",
    "    voltage, \n",
    "    current,\n",
    "    length,      \n",
    "    resistivity[\"Copper\"],\n",
    "    drop_ratio,\n",
    ")\n",
    "      \n",
    "\n",
    "print(f'n = {best_n}')\n",
    "print(f'Voltage = {target_v}')\n",
    "print(f'Current = {current}')\n",
    "print(f'Length  = {length}')\n",
    "\n",
    "v_drop = voltage_drop(best_n, current, length, resistivity[\"Copper\"])\n",
    "\n",
    "print(f'Voltage Drop            = {v_drop:.7f}V')\n",
    "print(f'% Voltage Drop          = {v_drop/voltage:.7%}')"
   ]
  },
  {
   "cell_type": "markdown",
   "id": "445c1463",
   "metadata": {},
   "source": [
    "If we use the same set of data, expect use 12 volts instead of 5 volts the AWG is 22, a smaller diameter than with 5 volts.\n",
    "\n",
    "If we look at the same AWG as in the 5 volt case, we get:"
   ]
  },
  {
   "cell_type": "code",
   "execution_count": 19,
   "id": "7eca52db",
   "metadata": {},
   "outputs": [
    {
     "name": "stdout",
     "output_type": "stream",
     "text": [
      "Voltage Drop            = 0.4179592V\n",
      "% Voltage Drop          = 3.4829934%\n"
     ]
    }
   ],
   "source": [
    "v_drop = voltage_drop(18, current, length, resistivity[\"Copper\"])\n",
    "\n",
    "print(f'Voltage Drop            = {v_drop:.7f}V')\n",
    "print(f'% Voltage Drop          = {v_drop/voltage:.7%}')"
   ]
  },
  {
   "cell_type": "markdown",
   "id": "552c77b4",
   "metadata": {},
   "source": [
    "The voltage drop for 12 volts using the same AWG as the 5 volt case is less then 4%. The voltage drop is less than half when using 12 volts versus 5 volts."
   ]
  }
 ],
 "metadata": {
  "kernelspec": {
   "display_name": "Python 3 (ipykernel)",
   "language": "python",
   "name": "python3"
  },
  "language_info": {
   "codemirror_mode": {
    "name": "ipython",
    "version": 3
   },
   "file_extension": ".py",
   "mimetype": "text/x-python",
   "name": "python",
   "nbconvert_exporter": "python",
   "pygments_lexer": "ipython3",
   "version": "3.9.7"
  }
 },
 "nbformat": 4,
 "nbformat_minor": 5
}
